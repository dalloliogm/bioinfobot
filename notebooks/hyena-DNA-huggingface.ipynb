{
 "cells": [
  {
   "cell_type": "markdown",
   "metadata": {},
   "source": [
    "# HyenaDNA from hugging face\n",
    "\n",
    "https://huggingface.co/LongSafari/hyenadna-tiny-1k-seqlen-hf"
   ]
  },
  {
   "cell_type": "code",
   "execution_count": 2,
   "metadata": {},
   "outputs": [],
   "source": [
    "import datasets\n",
    "from datasets import Dataset"
   ]
  },
  {
   "cell_type": "code",
   "execution_count": null,
   "metadata": {},
   "outputs": [
    {
     "name": "stderr",
     "output_type": "stream",
     "text": [
      "C:\\Users\\dallo\\AppData\\Local\\Packages\\PythonSoftwareFoundation.Python.3.12_qbz5n2kfra8p0\\LocalCache\\local-packages\\Python312\\site-packages\\accelerate\\utils\\modeling.py:1363: UserWarning: Current model requires 15364288 bytes of buffer for offloaded layers, which seems does not fit any GPU's remaining memory. If you are experiencing a OOM later, please consider using offload_buffers=True.\n",
      "  warnings.warn(\n",
      "Some weights of HyenaDNAForSequenceClassification were not initialized from the model checkpoint at LongSafari/hyenadna-medium-160k-seqlen-hf and are newly initialized: ['score.weight']\n",
      "You should probably TRAIN this model on a down-stream task to be able to use it for predictions and inference.\n"
     ]
    },
    {
     "data": {
      "application/vnd.jupyter.widget-view+json": {
       "model_id": "5947842afa9d43ea8e03f662ad1ee8d8",
       "version_major": 2,
       "version_minor": 0
      },
      "text/plain": [
       "  0%|          | 0/2 [00:00<?, ?it/s]"
      ]
     },
     "metadata": {},
     "output_type": "display_data"
    }
   ],
   "source": [
    "from transformers import AutoModelForSequenceClassification, AutoTokenizer\n",
    "from transformers import TrainingArguments, Trainer, logging\n",
    "import datasets\n",
    "import torch\n",
    "\n",
    "# instantiate pretrained model\n",
    "checkpoint = 'LongSafari/hyenadna-medium-160k-seqlen-hf'\n",
    "max_length = 160_000\n",
    "\n",
    "# bfloat16 for better speed and reduced memory usage\n",
    "tokenizer = AutoTokenizer.from_pretrained(checkpoint, trust_remote_code=True)\n",
    "model = AutoModelForSequenceClassification.from_pretrained(checkpoint, torch_dtype=torch.bfloat16, device_map=\"auto\", trust_remote_code=True)\n",
    "\n",
    "# Generate some random sequence and labels\n",
    "# If you're copying this code, replace the sequences and labels\n",
    "# here with your own data!\n",
    "sequence = 'ACTG' * int(max_length/4)\n",
    "sequence = [sequence] * 8  # Create 8 identical samples\n",
    "tokenized = tokenizer(sequence)[\"input_ids\"]\n",
    "labels = [0, 1] * 4\n",
    "\n",
    "# Create a dataset for training\n",
    "ds = Dataset.from_dict({\"input_ids\": tokenized, \"labels\": labels})\n",
    "ds.set_format(\"pt\")\n",
    "\n",
    "# Initialize Trainer\n",
    "# Note that we're using extremely small batch sizes to maximize\n",
    "# our ability to fit long sequences in memory!\n",
    "args = {\n",
    "    \"output_dir\": \"tmp\",\n",
    "    \"num_train_epochs\": 1,\n",
    "    \"per_device_train_batch_size\": 1,\n",
    "    \"gradient_accumulation_steps\": 4,\n",
    "    \"gradient_checkpointing\": True,\n",
    "    \"learning_rate\": 2e-5,\n",
    "}\n",
    "training_args = TrainingArguments(**args)\n",
    "\n",
    "trainer = Trainer(model=model, args=training_args, train_dataset=ds)\n",
    "result = trainer.train()\n",
    "\n",
    "print(result)\n",
    "\n",
    "# Now we can save_pretrained() or push_to_hub() to share the trained model!\n"
   ]
  }
 ],
 "metadata": {
  "kernelspec": {
   "display_name": "Python 3",
   "language": "python",
   "name": "python3"
  },
  "language_info": {
   "codemirror_mode": {
    "name": "ipython",
    "version": 3
   },
   "file_extension": ".py",
   "mimetype": "text/x-python",
   "name": "python",
   "nbconvert_exporter": "python",
   "pygments_lexer": "ipython3",
   "version": "3.12.8"
  }
 },
 "nbformat": 4,
 "nbformat_minor": 2
}
