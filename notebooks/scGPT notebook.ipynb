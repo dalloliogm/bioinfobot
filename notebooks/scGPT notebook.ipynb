{
 "cells": [
  {
   "cell_type": "code",
   "execution_count": null,
   "metadata": {},
   "outputs": [],
   "source": [
    "!pip install tdc"
   ]
  },
  {
   "cell_type": "code",
   "execution_count": 3,
   "metadata": {},
   "outputs": [
    {
     "ename": "ModuleNotFoundError",
     "evalue": "No module named 'tdc'",
     "output_type": "error",
     "traceback": [
      "\u001b[1;31m---------------------------------------------------------------------------\u001b[0m",
      "\u001b[1;31mModuleNotFoundError\u001b[0m                       Traceback (most recent call last)",
      "Cell \u001b[1;32mIn[3], line 1\u001b[0m\n\u001b[1;32m----> 1\u001b[0m \u001b[38;5;28;01mfrom\u001b[39;00m\u001b[38;5;250m \u001b[39m\u001b[38;5;21;01mtdc\u001b[39;00m\u001b[38;5;21;01m.\u001b[39;00m\u001b[38;5;21;01mmulti_pred\u001b[39;00m\u001b[38;5;21;01m.\u001b[39;00m\u001b[38;5;21;01manndata_dataset\u001b[39;00m\u001b[38;5;250m \u001b[39m\u001b[38;5;28;01mimport\u001b[39;00m DataLoader\n\u001b[0;32m      2\u001b[0m \u001b[38;5;28;01mfrom\u001b[39;00m\u001b[38;5;250m \u001b[39m\u001b[38;5;21;01mtdc\u001b[39;00m\u001b[38;5;250m \u001b[39m\u001b[38;5;28;01mimport\u001b[39;00m tdc_hf_interface\n\u001b[0;32m      3\u001b[0m \u001b[38;5;28;01mfrom\u001b[39;00m\u001b[38;5;250m \u001b[39m\u001b[38;5;21;01mtdc\u001b[39;00m\u001b[38;5;21;01m.\u001b[39;00m\u001b[38;5;21;01mmodel_server\u001b[39;00m\u001b[38;5;21;01m.\u001b[39;00m\u001b[38;5;21;01mtokenizers\u001b[39;00m\u001b[38;5;21;01m.\u001b[39;00m\u001b[38;5;21;01mscgpt\u001b[39;00m\u001b[38;5;250m \u001b[39m\u001b[38;5;28;01mimport\u001b[39;00m scGPTTokenizer\n",
      "\u001b[1;31mModuleNotFoundError\u001b[0m: No module named 'tdc'"
     ]
    }
   ],
   "source": [
    "from tdc.multi_pred.anndata_dataset import DataLoader\n",
    "from tdc import tdc_hf_interface\n",
    "from tdc.model_server.tokenizers.scgpt import scGPTTokenizer\n",
    "import torch\n",
    "\n",
    "# an example dataset\n",
    "adata = DataLoader(\"cellxgene_sample_small\",\n",
    "                   \"./data\",\n",
    "                   dataset_names=[\"cellxgene_sample_small\"],\n",
    "                   no_convert=True).adata\n",
    "\n",
    "# code for loading the model and performing inference\n",
    "scgpt = tdc_hf_interface(\"scGPT\")\n",
    "model = scgpt.load()  # This line can cause segmentation fault on inappropriate setup\n",
    "tokenizer = scGPTTokenizer()\n",
    "gene_ids = adata.var[\"feature_name\"].to_numpy(\n",
    ")  # Convert to numpy array\n",
    "tokenized_data = tokenizer.tokenize_cell_vectors(\n",
    "    adata.X.toarray(), gene_ids)\n",
    "mask = torch.tensor([x != 0 for x in tokenized_data[0][1]],\n",
    "                    dtype=torch.bool)\n",
    "\n",
    "# Extract first embedding\n",
    "first_embed = model(tokenized_data[0][0],\n",
    "                    tokenized_data[0][1],\n",
    "                    attention_mask=mask)\n"
   ]
  }
 ],
 "metadata": {
  "kernelspec": {
   "display_name": "Python 3",
   "language": "python",
   "name": "python3"
  },
  "language_info": {
   "codemirror_mode": {
    "name": "ipython",
    "version": 3
   },
   "file_extension": ".py",
   "mimetype": "text/x-python",
   "name": "python",
   "nbconvert_exporter": "python",
   "pygments_lexer": "ipython3",
   "version": "3.12.8"
  }
 },
 "nbformat": 4,
 "nbformat_minor": 2
}
