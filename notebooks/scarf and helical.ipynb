{
 "cells": [
  {
   "cell_type": "markdown",
   "metadata": {},
   "source": [
    "# Fine-tuning GeneFormer using scarf library.\n",
    "\n",
    "The scarf library enables fast handling of single-cell data. The helical library is a framework for training Foundation models from omics data.\n",
    "\n",
    "Here we explore the interaction between scarf and helical. Will fine-tuning be faster, if we use scarf instead of anndata for single-cell?\n",
    "\n"
   ]
  },
  {
   "cell_type": "markdown",
   "metadata": {},
   "source": [
    "## Importing libraries"
   ]
  },
  {
   "cell_type": "code",
   "execution_count": 1,
   "metadata": {},
   "outputs": [
    {
     "name": "stderr",
     "output_type": "stream",
     "text": [
      "INFO:datasets:PyTorch version 2.5.1+cu118 available.\n",
      "INFO:datasets:Polars version 1.21.0 available.\n",
      "INFO:helical:Caduceus not available: If you want to use this model, ensure you have a CUDA GPU and have installed the optional helical[mamba-ssm] dependencies.\n"
     ]
    }
   ],
   "source": [
    "import helical"
   ]
  },
  {
   "cell_type": "code",
   "execution_count": 1,
   "metadata": {},
   "outputs": [
    {
     "name": "stderr",
     "output_type": "stream",
     "text": [
      "INFO:datasets:PyTorch version 2.5.1+cu118 available.\n",
      "INFO:datasets:Polars version 1.21.0 available.\n",
      "INFO:helical:Caduceus not available: If you want to use this model, ensure you have a CUDA GPU and have installed the optional helical[mamba-ssm] dependencies.\n"
     ]
    }
   ],
   "source": [
    "from sklearn.neighbors import KNeighborsClassifier\n",
    "from sklearn.metrics import classification_report,confusion_matrix,ConfusionMatrixDisplay\n",
    "import warnings\n",
    "import seaborn as sns\n",
    "import matplotlib.pyplot as plt\n",
    "import umap\n",
    "import pandas as pd\n",
    "import numpy as np\n",
    "import logging\n",
    "import torch\n",
    "from helical.utils import get_anndata_from_hf_dataset\n",
    "from datasets import load_dataset\n",
    "\n",
    "logging.getLogger().setLevel(logging.ERROR)\n",
    "\n",
    "warnings.filterwarnings(\"ignore\")\n",
    "\n",
    "# Import Geneformer & UCE from the Helical package\n",
    "from helical import Geneformer,GeneformerConfig, UCE, UCEConfig\n"
   ]
  },
  {
   "cell_type": "code",
   "execution_count": 3,
   "metadata": {},
   "outputs": [],
   "source": [
    "import scarf, scarf_datasets"
   ]
  },
  {
   "cell_type": "markdown",
   "metadata": {},
   "source": [
    "## Fetching sample single-cell dataset"
   ]
  },
  {
   "cell_type": "code",
   "execution_count": 8,
   "metadata": {},
   "outputs": [
    {
     "name": "stdout",
     "output_type": "stream",
     "text": [
      "\u001b[1;31mSignature:\u001b[0m\n",
      "\u001b[0mscarf\u001b[0m\u001b[1;33m.\u001b[0m\u001b[0mfetch_dataset\u001b[0m\u001b[1;33m(\u001b[0m\u001b[1;33m\n",
      "\u001b[0m    \u001b[0mdataset_name\u001b[0m\u001b[1;33m:\u001b[0m \u001b[0mstr\u001b[0m\u001b[1;33m,\u001b[0m\u001b[1;33m\n",
      "\u001b[0m    \u001b[0msave_path\u001b[0m\u001b[1;33m:\u001b[0m \u001b[0mstr\u001b[0m \u001b[1;33m=\u001b[0m \u001b[1;34m'.'\u001b[0m\u001b[1;33m,\u001b[0m\u001b[1;33m\n",
      "\u001b[0m    \u001b[0mas_zarr\u001b[0m\u001b[1;33m:\u001b[0m \u001b[0mbool\u001b[0m \u001b[1;33m=\u001b[0m \u001b[1;32mFalse\u001b[0m\u001b[1;33m,\u001b[0m\u001b[1;33m\n",
      "\u001b[0m\u001b[1;33m)\u001b[0m \u001b[1;33m->\u001b[0m \u001b[1;32mNone\u001b[0m\u001b[1;33m\u001b[0m\u001b[1;33m\u001b[0m\u001b[0m\n",
      "\u001b[1;31mDocstring:\u001b[0m\n",
      "Downloads datasets from online repositories and saves them in as-is format.\n",
      "\n",
      "Args:\n",
      "    dataset_name: Name of the dataset\n",
      "    save_path: Save location without name of the file\n",
      "    as_zarr: If True, then a Zarr format file, if available, is downloaded instead\n",
      "\n",
      "Returns:\n",
      "    None\n",
      "\u001b[1;31mFile:\u001b[0m      c:\\users\\dallo\\appdata\\local\\packages\\pythonsoftwarefoundation.python.3.12_qbz5n2kfra8p0\\localcache\\local-packages\\python312\\site-packages\\scarf\\downloader.py\n",
      "\u001b[1;31mType:\u001b[0m      function"
     ]
    }
   ],
   "source": [
    "scarf.fetch_dataset?"
   ]
  },
  {
   "cell_type": "code",
   "execution_count": 12,
   "metadata": {},
   "outputs": [
    {
     "data": {
      "application/vnd.jupyter.widget-view+json": {
       "model_id": "7c79e7dde5b1489ba3613a2a25e43880",
       "version_major": 2,
       "version_minor": 0
      },
      "text/plain": [
       "Downloading :   0%|                                                                                           …"
      ]
     },
     "metadata": {},
     "output_type": "display_data"
    }
   ],
   "source": [
    "scarf.fetch_dataset(\n",
    "    'tenx_5K_pbmc_rnaseq',\n",
    "    save_path='scarf_datasets',\n",
    "    as_zarr= True\n",
    ")\n",
    "ds = scarf.DataStore(\n",
    "    'scarf_datasets/tenx_5K_pbmc_rnaseq/data.zarr',\n",
    "    nthreads=4,\n",
    "    min_features_per_cell=10\n",
    ")\n"
   ]
  },
  {
   "cell_type": "code",
   "execution_count": 13,
   "metadata": {},
   "outputs": [
    {
     "data": {
      "text/plain": [
       "DataStore has 3940 (5025) cells with 1 assays: RNA\n",
       "   Cell metadata:\n",
       "            'I', 'ids', 'names', 'RNA_UMAP1', 'RNA_UMAP2', \n",
       "            'RNA_cluster', 'RNA_leiden_cluster', 'RNA_nCounts', 'RNA_nFeatures', 'RNA_percentMito', \n",
       "            'RNA_percentRibo', 'RNA_tSNE1', 'RNA_tSNE2'\n",
       "   RNA assay has 13632 (33538) features and following metadata:\n",
       "            'I', 'ids', 'names', 'I__hvgs', 'dropOuts', \n",
       "            'nCells'"
      ]
     },
     "execution_count": 13,
     "metadata": {},
     "output_type": "execute_result"
    }
   ],
   "source": [
    "ds"
   ]
  },
  {
   "cell_type": "code",
   "execution_count": 25,
   "metadata": {},
   "outputs": [
    {
     "name": "stdout",
     "output_type": "stream",
     "text": [
      "RNA\n",
      "add_grouped_assay\n",
      "add_melded_assay\n",
      "assay_names\n",
      "auto_filter_cells\n",
      "calc_membership_strength\n",
      "cells\n",
      "export_markers_to_csv\n",
      "filter_cells\n",
      "get_assay\n",
      "get_cell_vals\n",
      "get_imputed\n",
      "get_mapping_score\n",
      "get_markers\n",
      "get_target_classes\n",
      "integrate_assays\n",
      "load_graph\n",
      "load_unified_graph\n",
      "make_bulk\n",
      "make_graph\n",
      "mark_hto_identities\n",
      "mark_hvgs\n",
      "mark_prevalent_peaks\n",
      "metric_integration\n",
      "metric_lisi\n",
      "metric_silhouette\n",
      "nthreads\n",
      "plot_cells_dists\n",
      "plot_cluster_tree\n",
      "plot_layout\n",
      "plot_marker_heatmap\n",
      "plot_pseudotime_heatmap\n",
      "plot_unified_layout\n",
      "run_cell_cycle_scoring\n",
      "run_clustering\n",
      "run_leiden_clustering\n",
      "run_mapping\n",
      "run_marker_search\n",
      "run_pseudotime_aggregation\n",
      "run_pseudotime_marker_search\n",
      "run_pseudotime_scoring\n",
      "run_topacedo_sampler\n",
      "run_tsne\n",
      "run_umap\n",
      "run_unified_tsne\n",
      "run_unified_umap\n",
      "set_default_assay\n",
      "show_zarr_tree\n",
      "smart_label\n",
      "to_anndata\n",
      "workspace\n",
      "z\n",
      "zw\n"
     ]
    }
   ],
   "source": [
    "print('\\n'.join([s for s in dir(ds) if not s.startswith('_')]))"
   ]
  },
  {
   "cell_type": "code",
   "execution_count": 28,
   "metadata": {},
   "outputs": [
    {
     "ename": "ValueError",
     "evalue": "ERROR: Please provide a value for n_clusters parameter. We are working on making this parameter free",
     "output_type": "error",
     "traceback": [
      "\u001b[1;31m---------------------------------------------------------------------------\u001b[0m",
      "\u001b[1;31mValueError\u001b[0m                                Traceback (most recent call last)",
      "Cell \u001b[1;32mIn[28], line 1\u001b[0m\n\u001b[1;32m----> 1\u001b[0m \u001b[43mds\u001b[49m\u001b[38;5;241;43m.\u001b[39;49m\u001b[43mrun_clustering\u001b[49m\u001b[43m(\u001b[49m\u001b[43m)\u001b[49m\n",
      "File \u001b[1;32m~\\AppData\\Local\\Packages\\PythonSoftwareFoundation.Python.3.12_qbz5n2kfra8p0\\LocalCache\\local-packages\\Python312\\site-packages\\scarf\\datastore\\graph_datastore.py:1513\u001b[0m, in \u001b[0;36mGraphDataStore.run_clustering\u001b[1;34m(self, from_assay, cell_key, feat_key, n_clusters, integrated_graph, symmetric_graph, graph_upper_only, balanced_cut, max_size, min_size, max_distance_fc, force_recalc, label)\u001b[0m\n\u001b[0;32m   1511\u001b[0m \u001b[38;5;28;01mif\u001b[39;00m balanced_cut \u001b[38;5;129;01mis\u001b[39;00m \u001b[38;5;28;01mFalse\u001b[39;00m:\n\u001b[0;32m   1512\u001b[0m     \u001b[38;5;28;01mif\u001b[39;00m n_clusters \u001b[38;5;129;01mis\u001b[39;00m \u001b[38;5;28;01mNone\u001b[39;00m:\n\u001b[1;32m-> 1513\u001b[0m         \u001b[38;5;28;01mraise\u001b[39;00m \u001b[38;5;167;01mValueError\u001b[39;00m(\n\u001b[0;32m   1514\u001b[0m             \u001b[38;5;124m\"\u001b[39m\u001b[38;5;124mERROR: Please provide a value for n_clusters parameter. We are working on making \u001b[39m\u001b[38;5;124m\"\u001b[39m\n\u001b[0;32m   1515\u001b[0m             \u001b[38;5;124m\"\u001b[39m\u001b[38;5;124mthis parameter free\u001b[39m\u001b[38;5;124m\"\u001b[39m\n\u001b[0;32m   1516\u001b[0m         )\n\u001b[0;32m   1517\u001b[0m \u001b[38;5;28;01melse\u001b[39;00m:\n\u001b[0;32m   1518\u001b[0m     \u001b[38;5;28;01mif\u001b[39;00m n_clusters \u001b[38;5;129;01mis\u001b[39;00m \u001b[38;5;129;01mnot\u001b[39;00m \u001b[38;5;28;01mNone\u001b[39;00m:\n",
      "\u001b[1;31mValueError\u001b[0m: ERROR: Please provide a value for n_clusters parameter. We are working on making this parameter free"
     ]
    }
   ],
   "source": [
    "ds.run_clustering()"
   ]
  }
 ],
 "metadata": {
  "kernelspec": {
   "display_name": "Python 3",
   "language": "python",
   "name": "python3"
  },
  "language_info": {
   "codemirror_mode": {
    "name": "ipython",
    "version": 3
   },
   "file_extension": ".py",
   "mimetype": "text/x-python",
   "name": "python",
   "nbconvert_exporter": "python",
   "pygments_lexer": "ipython3",
   "version": "3.12.9"
  }
 },
 "nbformat": 4,
 "nbformat_minor": 2
}
