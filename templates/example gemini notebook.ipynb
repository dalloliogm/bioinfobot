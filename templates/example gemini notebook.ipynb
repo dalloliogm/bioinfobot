{
 "cells": [
  {
   "cell_type": "markdown",
   "metadata": {},
   "source": [
    "# Example GeminiAI notebook\n",
    "\n",
    "This notebook contains my notes on querying LLMs using Google'\n",
    "s APIs. This involves genmini, but also all the models in VertexAI.\n",
    "\n",
    "Some references:\n",
    "- https://ai.google.dev/gemini-api/docs/quickstart?lang=python"
   ]
  },
  {
   "cell_type": "markdown",
   "metadata": {},
   "source": [
    "# Libraries"
   ]
  },
  {
   "cell_type": "markdown",
   "metadata": {},
   "source": [
    "## Install libraries if needed"
   ]
  },
  {
   "cell_type": "code",
   "execution_count": 4,
   "metadata": {},
   "outputs": [],
   "source": [
    "#!pip install -q -U google-generativeai\n"
   ]
  },
  {
   "cell_type": "markdown",
   "metadata": {},
   "source": [
    "## Load libraries"
   ]
  },
  {
   "cell_type": "code",
   "execution_count": 7,
   "metadata": {},
   "outputs": [
    {
     "name": "stdout",
     "output_type": "stream",
     "text": [
      "C:\\Program Files\\WindowsApps\\PythonSoftwareFoundation.Python.3.12_3.12.2288.0_x64__qbz5n2kfra8p0\\python312.zip\n",
      "C:\\Program Files\\WindowsApps\\PythonSoftwareFoundation.Python.3.12_3.12.2288.0_x64__qbz5n2kfra8p0\\DLLs\n",
      "C:\\Program Files\\WindowsApps\\PythonSoftwareFoundation.Python.3.12_3.12.2288.0_x64__qbz5n2kfra8p0\\Lib\n",
      "C:\\Program Files\\WindowsApps\\PythonSoftwareFoundation.Python.3.12_3.12.2288.0_x64__qbz5n2kfra8p0\n",
      "\n",
      "C:\\Users\\dallo\\AppData\\Local\\Packages\\PythonSoftwareFoundation.Python.3.12_qbz5n2kfra8p0\\LocalCache\\local-packages\\Python312\\site-packages\n",
      "C:\\Users\\dallo\\AppData\\Local\\Packages\\PythonSoftwareFoundation.Python.3.12_qbz5n2kfra8p0\\LocalCache\\local-packages\\Python312\\site-packages\\win32\n",
      "C:\\Users\\dallo\\AppData\\Local\\Packages\\PythonSoftwareFoundation.Python.3.12_qbz5n2kfra8p0\\LocalCache\\local-packages\\Python312\\site-packages\\win32\\lib\n",
      "C:\\Users\\dallo\\AppData\\Local\\Packages\\PythonSoftwareFoundation.Python.3.12_qbz5n2kfra8p0\\LocalCache\\local-packages\\Python312\\site-packages\\Pythonwin\n",
      "C:\\Program Files\\WindowsApps\\PythonSoftwareFoundation.Python.3.12_3.12.2288.0_x64__qbz5n2kfra8p0\\Lib\\site-packages\n",
      "c:\\Users\\dallo\\workspace\n",
      "c:\\Users\\dallo\\workspace\\bioinfobot\n",
      "c:\\Users\\dallo\\workspace\n",
      "c:\\Users\\dallo\\workspace\\bioinfobot\n",
      "c:\\Users\\dallo\\workspace\n",
      "c:\\Users\\dallo\\workspace\\bioinfobot\n",
      "c:\\Users\\dallo\\workspace\n",
      "c:\\Users\\dallo\\workspace\\bioinfobot\n",
      "c:\\Users\\dallo\\workspace\n",
      "c:\\Users\\dallo\\workspace\\bioinfobot\n",
      "c:\\Users\\dallo\\workspace\n",
      "c:\\Users\\dallo\\workspace\\bioinfobot\n"
     ]
    }
   ],
   "source": [
    "import google.generativeai as genai\n",
    "\n",
    "# Add the project root directory to the Python path\n",
    "import sys\n",
    "import os\n",
    "sys.path.append(os.path.abspath(os.path.join('..', '..')))\n",
    "sys.path.append(os.path.abspath(os.path.join('..')))\n",
    "print('\\n'.join(sys.path))\n",
    "\n",
    "\n",
    "# Import the helper functions\n",
    "from utils.helper import *\n",
    "gemini_api_key = get_gemini_api_key()"
   ]
  },
  {
   "cell_type": "code",
   "execution_count": 5,
   "metadata": {},
   "outputs": [
    {
     "name": "stdout",
     "output_type": "stream",
     "text": [
      "A list of what?  Please tell me what kind of list you need to make.  For example,  a list of groceries, a list of tasks, a list of countries, etc.\n",
      "\n",
      "That depends on how many pets you have with paws in your house!  To answer your question, I need to know how many cats, dogs, or other pawed animals live with you.\n",
      "\n"
     ]
    }
   ],
   "source": [
    "import google.generativeai as genai\n",
    "\n",
    "genai.configure(api_key=gemini_api_key)\n",
    "\n",
    "model = genai.GenerativeModel(\"gemini-1.5-flash\")\n",
    "chat = model.start_chat(\n",
    "    history=[\n",
    "        {\"role\": \"user\", \"parts\": \"Hello I am Gio\"},\n",
    "        {\"role\": \"model\", \"parts\": \"Great to meet you. What would you like to know?\"},\n",
    "    ]\n",
    ")\n",
    "\n",
    "response = chat.send_message(\"I need to make a list of \")\n",
    "print(response.text)\n",
    "response2 = chat.send_message(\"How many paws are in my house?\")\n",
    "print(response2.text)"
   ]
  }
 ],
 "metadata": {
  "kernelspec": {
   "display_name": "Python 3",
   "language": "python",
   "name": "python3"
  },
  "language_info": {
   "codemirror_mode": {
    "name": "ipython",
    "version": 3
   },
   "file_extension": ".py",
   "mimetype": "text/x-python",
   "name": "python",
   "nbconvert_exporter": "python",
   "pygments_lexer": "ipython3",
   "version": "3.12.8"
  }
 },
 "nbformat": 4,
 "nbformat_minor": 2
}
